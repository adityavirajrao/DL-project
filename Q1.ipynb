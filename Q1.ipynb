{
 "cells": [
  {
   "cell_type": "code",
   "execution_count": 359,
   "metadata": {},
   "outputs": [],
   "source": [
    "# Import necessary libraries\n",
    "#remove .legacy if not M1 mac\n",
    "import numpy as np\n",
    "from keras.initializers import GlorotUniform\n",
    "import pandas as pd\n",
    "import matplotlib.pyplot as plt\n",
    "from sklearn.metrics import confusion_matrix\n",
    "import tensorflow as tf\n",
    "from keras.models import Sequential\n",
    "from keras.layers import Dense\n",
    "from keras.optimizers.legacy import SGD #MAC M1 compatible with legacy\n",
    "from keras.callbacks import EarlyStopping\n",
    "from keras.optimizers.legacy import Optimizer #MAC M1 compatible with legacy\n",
    "import keras.backend as K\n",
    "from keras.optimizers.legacy import Adagrad #MAC M1 compatible with legacy\n",
    "from keras.optimizers.legacy import RMSprop #MAC M1 compatible with legacy\n",
    "from keras.optimizers.legacy import Adam #MAC M1 compatible with legacy\n",
    "from keras.utils import to_categorical\n",
    "from keras.optimizers.legacy import Nadam"
   ]
  },
  {
   "cell_type": "code",
   "execution_count": 360,
   "metadata": {},
   "outputs": [],
   "source": [
    "# Load data from CSV file\n",
    "\n",
    "tdata=pd.read_csv(\"team13/task1/train_data.csv\",header=None)\n",
    "train_data=tdata.values\n",
    "tlabels=pd.read_csv(\"team13/task1/train_label.csv\",header=None)\n",
    "train_labels=tlabels.values\n",
    "tedata=pd.read_csv(\"team13/task1/test_data.csv\",header=None)\n",
    "test_data=tedata.values\n",
    "telabels=pd.read_csv(\"team13/task1/test_label.csv\",header=None)\n",
    "test_labels=telabels.values\n",
    "vdata=pd.read_csv(\"team13/task1/val_data.csv\",header=None)\n",
    "val_data=vdata.values\n",
    "vlabels=pd.read_csv(\"team13/task1/val_label.csv\",header=None)\n",
    "val_labels=vlabels.values\n",
    "\n",
    "num_classes = tlabels.iloc[:, 0].nunique()\n",
    "train_labels=to_categorical(train_labels, num_classes)\n",
    "test_labels=to_categorical(test_labels, num_classes)\n",
    "val_labels=to_categorical(val_labels, num_classes)"
   ]
  },
  {
   "cell_type": "code",
   "execution_count": 361,
   "metadata": {},
   "outputs": [],
   "source": [
    "# Define parameters\n",
    "input_size = train_data.shape[1]\n",
    "num_classes = tlabels.iloc[:, 0].nunique()\n",
    "learning_rate = 0.01\n",
    "stopping_threshold = 0.001\n",
    "# print(input_size)"
   ]
  },
  {
   "cell_type": "code",
   "execution_count": 362,
   "metadata": {},
   "outputs": [],
   "source": [
    "# Define function to build model\n",
    "def build_model(h1_nodes, h2_nodes):\n",
    "    model = Sequential([\n",
    "        Dense(h1_nodes, input_shape=(input_size,), activation='tanh'),  # Hidden layer 1\n",
    "        Dense(h2_nodes, activation='tanh'),  # Hidden layer 2\n",
    "        Dense(num_classes, activation='softmax')  # Output layer\n",
    "    ])\n",
    "    return model"
   ]
  },
  {
   "cell_type": "code",
   "execution_count": 363,
   "metadata": {},
   "outputs": [],
   "source": [
    "# Define function to train model with a specific weight update rule\n",
    "def train_model(model, update_rule):\n",
    "    # Compile model\n",
    "    if update_rule == 'Delta':\n",
    "        optimizer = SGD(learning_rate=learning_rate)\n",
    "    elif update_rule == 'AdaGrad':\n",
    "        optimizer = Adagrad(learning_rate=learning_rate, epsilon=1e-6)\n",
    "    elif update_rule == 'RMSProp':\n",
    "        optimizer = RMSprop(learning_rate=learning_rate, rho=0.9, epsilon=1e-6)\n",
    "    elif update_rule == 'GenDelta':\n",
    "        optimizer = SGD(learning_rate=learning_rate,momentum=0.9)\n",
    "    elif update_rule == 'AdaM':\n",
    "        optimizer = Adam(learning_rate=learning_rate, beta_1=0.9, beta_2=0.99, epsilon=1e-6)\n",
    "    \n",
    "    model.compile(optimizer=optimizer, loss='categorical_crossentropy', metrics=['accuracy'])\n",
    "    \n",
    "    # Define early stopping callback\n",
    "    early_stopping = EarlyStopping(monitor='val_loss', min_delta=stopping_threshold, patience=5,mode='auto', restore_best_weights=True)\n",
    "\n",
    "    \n",
    "    # Train model\n",
    "    history = model.fit(train_data, train_labels, verbose=0, epochs=200, validation_data=(val_data, val_labels),callbacks=[early_stopping])\n",
    "    \n",
    "    return history"
   ]
  },
  {
   "cell_type": "code",
   "execution_count": 364,
   "metadata": {},
   "outputs": [],
   "source": [
    "def accuracy_from_confusion_matrix(confusion_matrix):\n",
    "    diagonal_sum = np.trace(confusion_matrix)\n",
    "    total_sum = np.sum(confusion_matrix)\n",
    "    accuracy = diagonal_sum / total_sum\n",
    "    return accuracy"
   ]
  },
  {
   "cell_type": "code",
   "execution_count": 365,
   "metadata": {},
   "outputs": [],
   "source": [
    "\n",
    "# function for the learning rate\n",
    "#flag for experimenting\n",
    "#returns history object for plotting\n",
    "def weight_update(model,update_rule,h1_nodes,h2_nodes,flag):\n",
    "    # Build model\n",
    "    # model = build_model(h1_nodes,h2_nodes)\n",
    "    \n",
    "    # Train model\n",
    "    history = train_model(model, update_rule)\n",
    "\n",
    "    # Calculate confusion matrix for training data\n",
    "    train_pred = model.predict(train_data, verbose=0)\n",
    "    train_pred_labels = np.argmax(train_pred, axis=1)\n",
    "    train_true_labels = np.argmax(train_labels, axis=1)\n",
    "    train_conf_matrix = confusion_matrix(train_true_labels, train_pred_labels)\n",
    "    \n",
    "    train_accuracy = accuracy_from_confusion_matrix(train_conf_matrix)\n",
    "    \n",
    "\n",
    "    # Calculate confusion matrix for validation data\n",
    "    val_pred = model.predict(val_data, verbose=0)\n",
    "    val_pred_labels = np.argmax(val_pred, axis=1)\n",
    "    val_true_labels = np.argmax(val_labels, axis=1)\n",
    "    val_conf_matrix = confusion_matrix(val_true_labels, val_pred_labels)\n",
    "    val_accuracy = accuracy_from_confusion_matrix(val_conf_matrix)\n",
    "\n",
    "\n",
    "    if(flag):\n",
    "        return val_accuracy,train_accuracy\n",
    "\n",
    "\n",
    "    # Calculate confusion matrix for test data\n",
    "    test_pred = model.predict(test_data, verbose=0)\n",
    "    test_pred_labels = np.argmax(test_pred, axis=1)\n",
    "    test_true_labels = np.argmax(test_labels, axis=1)\n",
    "    test_conf_matrix = confusion_matrix(test_true_labels, test_pred_labels)\n",
    "    test_accuracy = accuracy_from_confusion_matrix(test_conf_matrix)\n",
    "\n",
    "    # Print results and return loss\n",
    "    print(f'Confusion matrix for training data with {update_rule}:\\n{train_conf_matrix}')\n",
    "    print(\"Train Accuracy:\", train_accuracy)\n",
    "    print()\n",
    "    print(f'Confusion matrix for test data with {update_rule}:\\n{test_conf_matrix}')\n",
    "    print(\"Test Accuracy:\", test_accuracy)\n",
    "    print()\n",
    "    print()\n",
    "    return history.history"
   ]
  },
  {
   "cell_type": "code",
   "execution_count": 366,
   "metadata": {},
   "outputs": [
    {
     "name": "stdout",
     "output_type": "stream",
     "text": [
      "val accuaracy, train accuracy for Delta rule with 50 and 20 nodes: (0.548, 0.5475)\n",
      "val accuaracy, train accuracy for Delta rule with 50 and 30 nodes: (0.538, 0.561)\n",
      "val accuaracy, train accuracy for Delta rule with 50 and 40 nodes: (0.542, 0.5375)\n",
      "val accuaracy, train accuracy for Delta rule with 60 and 20 nodes: (0.544, 0.5575)\n",
      "val accuaracy, train accuracy for Delta rule with 60 and 30 nodes: (0.546, 0.5625)\n",
      "val accuaracy, train accuracy for Delta rule with 60 and 40 nodes: (0.55, 0.561)\n",
      "val accuaracy, train accuracy for Delta rule with 70 and 20 nodes: (0.53, 0.5535)\n",
      "val accuaracy, train accuracy for Delta rule with 70 and 30 nodes: (0.528, 0.558)\n",
      "val accuaracy, train accuracy for Delta rule with 70 and 40 nodes: (0.544, 0.5595)\n",
      "val accuaracy, train accuracy for Delta rule with 100 and 20 nodes: (0.544, 0.5595)\n",
      "val accuaracy, train accuracy for Delta rule with 100 and 30 nodes: (0.536, 0.565)\n",
      "val accuaracy, train accuracy for Delta rule with 100 and 40 nodes: (0.532, 0.5645)\n"
     ]
    }
   ],
   "source": [
    "l1 = [50,60,70,100]\n",
    "l2 = [20,30,40]\n",
    "for i in l1:\n",
    "    for j in l2:\n",
    "            if(j>=i):\n",
    "                continue\n",
    "            model = build_model(i,j)\n",
    "            print(f'val accuaracy, train accuracy for Delta rule with {i} and {j} nodes:', weight_update(model,'Delta',i,j,1))"
   ]
  },
  {
   "cell_type": "code",
   "execution_count": 367,
   "metadata": {},
   "outputs": [],
   "source": [
    "#from the above accuracies h1=60 and h2=30 is the best model for Delta rule and not too complex\n",
    "# using the same strucutre for all other rules\n",
    "# Define weight update rules\n",
    "update_rules = ['Delta','GenDetla', 'AdaGrad', 'RMSProp', 'AdaM']"
   ]
  },
  {
   "cell_type": "code",
   "execution_count": 368,
   "metadata": {},
   "outputs": [
    {
     "name": "stdout",
     "output_type": "stream",
     "text": [
      "Confusion matrix for training data with Delta:\n",
      "[[306  22  13  46  13]\n",
      " [ 23 220  35  85  37]\n",
      " [ 10  53 198  66  73]\n",
      " [ 69 105  61 134  31]\n",
      " [  5  25  95  25 250]]\n",
      "Train Accuracy: 0.554\n",
      "\n",
      "Confusion matrix for test data with Delta:\n",
      "[[79  9  2  6  4]\n",
      " [ 4 48  9 24 15]\n",
      " [ 1  9 45 26 19]\n",
      " [20 22 10 44  4]\n",
      " [ 2  9 20  9 60]]\n",
      "Test Accuracy: 0.552\n",
      "\n",
      "\n",
      "Confusion matrix for training data with GenDelta:\n",
      "[[298  49  16  26  11]\n",
      " [ 15 293  29  27  36]\n",
      " [  9  70 233  47  41]\n",
      " [ 58 140  61 104  37]\n",
      " [  3  50  66  11 270]]\n",
      "Train Accuracy: 0.599\n",
      "\n",
      "Confusion matrix for test data with GenDelta:\n",
      "[[76 18  1  2  3]\n",
      " [ 3 62  7 12 16]\n",
      " [ 1 19 51 18 11]\n",
      " [18 48  7 20  7]\n",
      " [ 2 16 17  4 61]]\n",
      "Test Accuracy: 0.54\n",
      "\n",
      "\n",
      "Confusion matrix for training data with AdaGrad:\n",
      "[[308  24  10  42  16]\n",
      " [ 23 228  30  76  43]\n",
      " [ 13  56 171  68  92]\n",
      " [ 70 113  56 129  32]\n",
      " [  5  30  81  25 259]]\n",
      "Train Accuracy: 0.5475\n",
      "\n",
      "Confusion matrix for test data with AdaGrad:\n",
      "[[80  9  2  6  3]\n",
      " [ 4 50  7 22 17]\n",
      " [ 1 11 39 26 23]\n",
      " [23 24 10 37  6]\n",
      " [ 2 13 16  8 61]]\n",
      "Test Accuracy: 0.534\n",
      "\n",
      "\n",
      "Confusion matrix for training data with RMSProp:\n",
      "[[316  21  25  28  10]\n",
      " [ 38 191  83  58  30]\n",
      " [ 12  40 245  55  48]\n",
      " [ 77  88 113  99  23]\n",
      " [  6  20 183  12 179]]\n",
      "Train Accuracy: 0.515\n",
      "\n",
      "Confusion matrix for test data with RMSProp:\n",
      "[[83  5  2  6  4]\n",
      " [ 6 44 25 13 12]\n",
      " [ 2  5 69 19  5]\n",
      " [24 26 17 26  7]\n",
      " [ 1  3 53  3 40]]\n",
      "Test Accuracy: 0.524\n",
      "\n",
      "\n",
      "Confusion matrix for training data with AdaM:\n",
      "[[317  26  18  23  16]\n",
      " [ 22 197  57  62  62]\n",
      " [ 11  23 282  43  41]\n",
      " [ 65  59  74 150  52]\n",
      " [  5  10  97  15 273]]\n",
      "Train Accuracy: 0.6095\n",
      "\n",
      "Confusion matrix for test data with AdaM:\n",
      "[[80  7  2  6  5]\n",
      " [ 3 41 12 16 28]\n",
      " [ 3  6 60 14 17]\n",
      " [22 14 15 39 10]\n",
      " [ 2  2 26  5 65]]\n",
      "Test Accuracy: 0.57\n",
      "\n",
      "\n"
     ]
    }
   ],
   "source": [
    "h1_optimal = 60\n",
    "h2_optimal = 30\n",
    "model_delta = build_model(h1_optimal,h2_optimal)\n",
    "#get weights for the model\n",
    "init_weights = model_delta.get_weights()\n",
    "model_gen_delta = build_model(h1_optimal,h2_optimal)\n",
    "model_gen_delta.set_weights(init_weights)\n",
    "model_adagrad = build_model(h1_optimal,h2_optimal)\n",
    "model_adagrad.set_weights(init_weights)\n",
    "model_rmsprop = build_model(h1_optimal,h2_optimal)\n",
    "model_rmsprop.set_weights(init_weights)\n",
    "model_adam = build_model(h1_optimal,h2_optimal)\n",
    "model_adam.set_weights(init_weights)\n",
    "\n",
    "\n",
    "history_delta = weight_update(model_delta,'Delta',h1_optimal,h2_optimal,0)\n",
    "history_gen_delta = weight_update(model_gen_delta,'GenDelta',h1_optimal,h2_optimal,0)\n",
    "history_adagrad = weight_update(model_adagrad,'AdaGrad',h1_optimal,h2_optimal,0)\n",
    "history_rmsprop = weight_update(model_rmsprop,'RMSProp',h1_optimal,h2_optimal,0)\n",
    "history_adam = weight_update(model_adam,'AdaM',h1_optimal,h2_optimal,0)\n",
    "\n",
    "\n"
   ]
  },
  {
   "cell_type": "code",
   "execution_count": 369,
   "metadata": {},
   "outputs": [
    {
     "data": {
      "image/png": "[encoded data removed]",
      "text/plain": [
       "<Figure size 640x480 with 1 Axes>"
      ]
     },
     "metadata": {},
     "output_type": "display_data"
    }
   ],
   "source": [
    "\n",
    "# Plot settings\n",
    "plt.xlabel('Number of Epochs')\n",
    "plt.ylabel('Train Loss')\n",
    "plt.title('Average Error on Training Data vs Epoch')\n",
    "plt.plot(history_delta['loss'], label='Delta')\n",
    "plt.plot(history_gen_delta['loss'], label='GenDelta')\n",
    "plt.plot(history_adagrad['loss'], label='AdaGrad')\n",
    "# plt.legend()\n",
    "# plt.show()\n",
    "plt.plot(history_rmsprop['loss'], label='RMSProp')\n",
    "plt.plot(history_adam['loss'], label='AdaM')\n",
    "\n",
    "plt.legend()\n",
    "plt.show()"
   ]
  },
  {
   "cell_type": "code",
   "execution_count": 370,
   "metadata": {},
   "outputs": [
    {
     "name": "stdout",
     "output_type": "stream",
     "text": [
      "number of epochs for Delta rule: 94\n",
      "number of epochs for GenDelta rule: 29\n",
      "number of epochs for AdaGrad rule: 42\n",
      "number of epochs for RMSProp rule: 6\n",
      "number of epochs for AdaM rule: 19\n"
     ]
    }
   ],
   "source": [
    "print(\"number of epochs for Delta rule:\",len(history_delta['val_loss']))\n",
    "print(\"number of epochs for GenDelta rule:\",len(history_gen_delta['val_loss']))\n",
    "print(\"number of epochs for AdaGrad rule:\",len(history_adagrad['val_loss']))\n",
    "print(\"number of epochs for RMSProp rule:\",len(history_rmsprop['val_loss']))\n",
    "print(\"number of epochs for AdaM rule:\",len(history_adam['val_loss']))\n",
    "\n"
   ]
  }
 ],
 "metadata": {
  "kernelspec": {
   "display_name": "Python 3",
   "language": "python",
   "name": "python3"
  },
  "language_info": {
   "codemirror_mode": {
    "name": "ipython",
    "version": 3
   },
   "file_extension": ".py",
   "mimetype": "text/x-python",
   "name": "python",
   "nbconvert_exporter": "python",
   "pygments_lexer": "ipython3",
   "version": "3.11.8"
  }
 },
 "nbformat": 4,
 "nbformat_minor": 2
}
