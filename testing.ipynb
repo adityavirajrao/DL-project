{
 "cells": [
  {
   "cell_type": "code",
   "execution_count": 1,
   "metadata": {},
   "outputs": [],
   "source": [
    "import numpy as np\n",
    "from PIL import Image\n",
    "import os\n",
    "import string\n",
    "from pickle import dump\n",
    "from pickle import load\n",
    "from keras.applications.xception import Xception #to get pre-trained model Xception\n",
    "from keras.applications.xception import preprocess_input\n",
    "from keras.preprocessing.image import load_img\n",
    "from keras.preprocessing.image import img_to_array\n",
    "from keras.preprocessing.text import Tokenizer #for text tokenization\n",
    "from keras.preprocessing.sequence import pad_sequences\n",
    "from keras.utils import to_categorical\n",
    "from keras.layers import add\n",
    "from keras.models import Model, load_model\n",
    "from keras.layers import Input, Dense #Keras to build our CNN and LSTM\n",
    "from keras.layers import LSTM, Embedding, Dropout, SimpleRNN\n",
    "from keras.utils import plot_model\n",
    "from netvladlayer import NetVLAD\n",
    "from keras import Sequential"
   ]
  },
  {
   "cell_type": "code",
   "execution_count": 2,
   "metadata": {},
   "outputs": [],
   "source": [
    "def define_model(vocab_size, max_length,embedding_dim,hidden_size):\n",
    "  # features from the CNN model compressed from 2048 to 256 nodes\n",
    "  # inputs1 = Input(shape=(2048,))\n",
    "  img_input = Input(shape=(224, 224, 3))\n",
    "  cnn_model = load_model('qn2_cnn.keras')\n",
    "  cnn_model = Model(inputs=cnn_model.inputs, outputs=cnn_model.layers[-3].output)\n",
    "  cnn_model.trainable = False\n",
    "  cnn_output = cnn_model(img_input)\n",
    "\n",
    "  # net_vlad = NetVLAD(num_clusters=64, output_dim=512)\n",
    "  # vlad_layer = net_vlad(cnn_output)\n",
    "  # fe1 = Dropout(0.5)(cnn_output)\n",
    "\n",
    "  fe2 = Dense(hidden_size, activation='relu')(cnn_output)  \n",
    "  \n",
    "  # RNN layer\n",
    "  inputs2 = Input(shape=(max_length,))\n",
    "  se1 = Embedding(vocab_size, embedding_dim, mask_zero=True)(inputs2)\n",
    "  se1.trainable = False\n",
    "  #set the embedding matrix as the weight of the embedding layer###########\n",
    "\n",
    "  se3 = SimpleRNN(hidden_size, return_sequences=True)(se1, initial_state=[fe2])\n",
    "  decoder2 = Dense(256, activation='relu')(se3)\n",
    "  outputs = Dense(vocab_size, activation='softmax')(decoder2)\n",
    "  \n",
    "  model = Model(inputs=[img_input, inputs2], outputs=outputs)\n",
    "  model.compile(loss='categorical_crossentropy', optimizer='adam')\n",
    "  # summarize model\n",
    "  print(model.summary())\n",
    "  return model"
   ]
  },
  {
   "cell_type": "code",
   "execution_count": 3,
   "metadata": {},
   "outputs": [
    {
     "name": "stdout",
     "output_type": "stream",
     "text": [
      "Model: \"model_1\"\n",
      "__________________________________________________________________________________________________\n",
      " Layer (type)                Output Shape                 Param #   Connected to                  \n",
      "==================================================================================================\n",
      " input_1 (InputLayer)        [(None, 224, 224, 3)]        0         []                            \n",
      "                                                                                                  \n",
      " input_2 (InputLayer)        [(None, 40)]                 0         []                            \n",
      "                                                                                                  \n",
      " model (Functional)          (None, 20412)                371       ['input_1[0][0]']             \n",
      "                                                                                                  \n",
      " embedding (Embedding)       (None, 40, 300)              1200000   ['input_2[0][0]']             \n",
      "                                                          00                                      \n",
      "                                                                                                  \n",
      " dense (Dense)               (None, 256)                  5225728   ['model[0][0]']               \n",
      "                                                                                                  \n",
      " simple_rnn (SimpleRNN)      (None, 40, 256)              142592    ['embedding[0][0]',           \n",
      "                                                                     'dense[0][0]']               \n",
      "                                                                                                  \n",
      " dense_1 (Dense)             (None, 40, 256)              65792     ['simple_rnn[0][0]']          \n",
      "                                                                                                  \n",
      " dense_2 (Dense)             (None, 40, 400000)           1028000   ['dense_1[0][0]']             \n",
      "                                                          00                                      \n",
      "                                                                                                  \n",
      "==================================================================================================\n",
      "Total params: 228234483 (870.65 MB)\n",
      "Trainable params: 228234112 (870.64 MB)\n",
      "Non-trainable params: 371 (1.45 KB)\n",
      "__________________________________________________________________________________________________\n",
      "None\n"
     ]
    }
   ],
   "source": [
    "model = define_model(400000, 40,300,256)\n",
    "# model.layers[2].set_weights([embedding_matrix])"
   ]
  },
  {
   "cell_type": "code",
   "execution_count": 1,
   "metadata": {},
   "outputs": [
    {
     "name": "stdout",
     "output_type": "stream",
     "text": [
      "Coefficients: [0.33333333 0.33333333 0.33333333]\n",
      "Intercept: -1.0000000000000004\n",
      "Predictions: [1. 2. 3. 4.]\n",
      "Mean Squared Error: 1.9721522630525295e-31\n",
      "R^2 Score: 1.0\n"
     ]
    }
   ],
   "source": [
    "from sklearn.linear_model import LinearRegression\n",
    "import numpy as np\n",
    "\n",
    "X = np.array([[1, 2, 3],[2, 3, 4],[3, 4, 5], [4, 5, 6]])\n",
    "y = np.array([1, 2, 3, 4])\n",
    "\n",
    "reg = LinearRegression()\n",
    "reg.fit(X, y)\n",
    "print(\"Coefficients:\", reg.coef_)\n",
    "print(\"Intercept:\", reg.intercept_)\n",
    "y_pred = reg.predict(X)\n",
    "print(\"Predictions:\", y_pred)\n",
    "\n",
    "\n",
    "from sklearn.metrics import mean_squared_error, r2_score\n",
    "\n",
    "mse = mean_squared_error(y, y_pred)\n",
    "r2 = r2_score(y, y_pred)\n",
    "print(\"Mean Squared Error:\", mse)\n",
    "print(\"R^2 Score:\", r2)\n",
    "\n",
    "\n"
   ]
  },
  {
   "cell_type": "code",
   "execution_count": 2,
   "metadata": {},
   "outputs": [
    {
     "name": "stdout",
     "output_type": "stream",
     "text": [
      "[5.]\n"
     ]
    }
   ],
   "source": [
    "# BLEU evaluation\n",
    "from nltk.translate.bleu_score import corpus_bleu\n",
    "\n",
    "def evaluate_bleu(model, data, eng_tokenizer, bert_tokenizer):\n",
    "  references = []\n",
    "  candidates = []\n",
    "\n",
    "  for i, row in data.iterrows():\n",
    "      input_seq = tokenize_and_pad([row['source']], eng_tokenizer, max_eng_len)\n",
    "      decoded_sentence = decode_sequence(input_seq)\n",
    "      references.append([row['source'].split()])\n",
    "      candidates.append(decoded_sentence.split())\n",
    "\n",
    "  bleu_scores = {\n",
    "      'BLEU-1': corpus_bleu(references, candidates, weights=(1, 0, 0, 0)),\n",
    "      'BLEU-2': corpus_bleu(references, candidates, weights=(0.5, 0.5, 0, 0)),\n",
    "      'BLEU-3': corpus_bleu(references, candidates, weights=(0.33, 0.33, 0.33, 0)),\n",
    "      'BLEU-4': corpus_bleu(references, candidates, weights=(0.25, 0.25, 0.25, 0.25))\n",
    "  }\n",
    "\n",
    "  return bleu_scores\n",
    "\n",
    "# Evaluate on test data\n",
    "test_bleu_scores = evaluate_bleu(model, test_data, eng_tokenizer, bert_tokenizer)\n",
    "print(f\"Test BLEU Scores: {test_bleu_scores}\")\n"
   ]
  }
 ],
 "metadata": {
  "kernelspec": {
   "display_name": "Python 3",
   "language": "python",
   "name": "python3"
  },
  "language_info": {
   "codemirror_mode": {
    "name": "ipython",
    "version": 3
   },
   "file_extension": ".py",
   "mimetype": "text/x-python",
   "name": "python",
   "nbconvert_exporter": "python",
   "pygments_lexer": "ipython3",
   "version": "3.11.8"
  }
 },
 "nbformat": 4,
 "nbformat_minor": 2
}
